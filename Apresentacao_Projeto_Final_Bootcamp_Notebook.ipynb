{
 "cells": [
  {
   "cell_type": "markdown",
   "id": "17819d82",
   "metadata": {},
   "source": [
    "# Projeto Final - Detecção de Falhas em Chapas de Aço Inoxidável\n",
    "\n",
    "Uma abordagem com aprendizado de máquina para controle de qualidade industrial."
   ]
  },
  {
   "cell_type": "markdown",
   "id": "14d19d78",
   "metadata": {},
   "source": [
    "## 1. Problema\n",
    "Na indústria de chapas de aço, detectar falhas manualmente é custoso, demorado e sujeito a erros.O objetivo é desenvolver um modelo que classifique automaticamente o tipo de defeito em cada chapa com base em medidas geométricas, estatísticas e de luminosidade."
   ]
  },
  {
   "cell_type": "markdown",
   "id": "9bb36e9c",
   "metadata": {},
   "source": [
    "## 2. O Dataset\n",
    "O conjunto de dados contém 31 colunas de características numéricas e 7 colunas indicando o tipo de falha (falha_1 até falha_outros). Cada linha representa uma chapa de aço.\n",
    "\n",
    "Carregando os dados:"
   ]
  },
  {
   "cell_type": "code",
   "execution_count": null,
   "id": "d0ffe400",
   "metadata": {},
   "outputs": [],
   "source": [
    "import pandas as pd # type: ignore\n",
    "df = pd.read_csv(\"Bootcamp_Train.csv\")\n",
    "df.head()"
   ]
  },
  {
   "cell_type": "markdown",
   "id": "7fd24665",
   "metadata": {},
   "source": [
    "## 3. Limpeza e Pré-processamento\n",
    "Corrigir valores inválidos e padronizar as variáveis."
   ]
  },
  {
   "cell_type": "code",
   "execution_count": null,
   "id": "0399b39d",
   "metadata": {},
   "outputs": [],
   "source": [
    "from sklearn.model_selection import train_test_split # type: ignore\n",
    "from sklearn.preprocessing import StandardScaler # type: ignore\n",
    "\n",
    "falhas = ['falha_1', 'falha_2', 'falha_3', 'falha_4', 'falha_5', 'falha_6', 'falha_outros']\n",
    "df['classe'] = df[falhas].idxmax(axis=1)\n",
    "X = df.drop(columns=['id'] + falhas + ['classe'])\n",
    "y = df['classe']\n",
    "\n",
    "X_train, X_test, y_train, y_test = train_test_split(X, y, stratify=y, test_size=0.2, random_state=42)\n",
    "\n",
    "scaler = StandardScaler()\n",
    "X_train_scaled = scaler.fit_transform(X_train)\n",
    "X_test_scaled = scaler.transform(X_test)"
   ]
  },
  {
   "cell_type": "markdown",
   "id": "84a4e701",
   "metadata": {},
   "source": [
    "## 4. Treinamento com LightGBM\n",
    "Treinamos o modelo com os dados de treino e avaliamos com os dados de teste."
   ]
  },
  {
   "cell_type": "code",
   "execution_count": null,
   "id": "1575fa51",
   "metadata": {},
   "outputs": [],
   "source": [
    "import lightgbm as lgb # type: ignore\n",
    "from sklearn.metrics import classification_report # type: ignore\n",
    "\n",
    "modelo = lgb.LGBMClassifier(random_state=42)\n",
    "modelo.fit(X_train_scaled, y_train)\n",
    "\n",
    "y_pred = modelo.predict(X_test_scaled)\n",
    "print(classification_report(y_test, y_pred))"
   ]
  },
  {
   "cell_type": "markdown",
   "id": "f6cefa4e",
   "metadata": {},
   "source": [
    "## 5. Visualização: Importância das Variáveis"
   ]
  },
  {
   "cell_type": "code",
   "execution_count": null,
   "id": "aac2f0be",
   "metadata": {},
   "outputs": [],
   "source": [
    "import matplotlib.pyplot as plt # type: ignore\n",
    "lgb.plot_importance(modelo, max_num_features=10)\n",
    "plt.show()"
   ]
  },
  {
   "cell_type": "markdown",
   "id": "b1237a6d",
   "metadata": {},
   "source": [
    "## 6. Interpretação com SHAP\n",
    "Entendi como o modelo toma suas decisões."
   ]
  },
  {
   "cell_type": "code",
   "execution_count": null,
   "id": "60561d08",
   "metadata": {},
   "outputs": [],
   "source": [
    "import shap # type: ignore\n",
    "explainer = shap.Explainer(modelo)\n",
    "shap_values = explainer(X_test_scaled)\n",
    "shap.summary_plot(shap_values, X_test, plot_type='bar')"
   ]
  },
  {
   "cell_type": "markdown",
   "id": "c63bcf60",
   "metadata": {},
   "source": [
    "## 7. Conclusões \n",
    "\n",
    "- O modelo obteve um F1-score macro de aproximadamente 0.91.\n",
    "- As variáveis mais importantes foram área, brilho, espessura e tipo do aço.\n"
   ]
  }
 ],
 "metadata": {
  "language_info": {
   "name": "python"
  }
 },
 "nbformat": 4,
 "nbformat_minor": 5
}
